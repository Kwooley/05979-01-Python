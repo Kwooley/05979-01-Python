{
 "cells": [
  {
   "cell_type": "markdown",
   "metadata": {},
   "source": [
    "<h2><span style=\"color: #993300;\">Pandas</span></h2>\n",
    "<ul>\n",
    "<li class=\"nav-item nav-item-0\"><a href=\"http://pandas.pydata.org/pandas-docs/stable/index.html\">pandas 0.19.2 documentation</a> &raquo;</li>\n",
    "</ul>\n",
    "<img src=\"http://www.clipular.com/c/5725045629648896.png?k=x2OJ_Y1gT74aYebqP4XbbS4yPQA\" >"
   ]
  },
  {
   "cell_type": "markdown",
   "metadata": {},
   "source": [
    "<img src=\"http://www.clipular.com/c/5914820638670848.png?k=srfiXFX_nm9TOqtlfFVlemM0vQA\">"
   ]
  },
  {
   "cell_type": "markdown",
   "metadata": {},
   "source": [
    "<div class=\"section\" id=\"series\">\n",
    "<span id=\"basics-series\"></span><h2>Series<a class=\"headerlink\" href=\"#series\" title=\"Permalink to this headline\">¶</a></h2>\n",
    "<p><a class=\"reference internal\" href=\"generated/pandas.Series.html#pandas.Series\" title=\"pandas.Series\"><code class=\"xref py py-class docutils literal\"><span class=\"pre\">Series</span></code></a> is a one-dimensional labeled array capable of holding any data\n",
    "type (integers, strings, floating point numbers, Python objects, etc.). The axis\n",
    "labels are collectively referred to as the <strong>index</strong>. The basic method to create a Series is to call:</p>\n",
    "<div class=\"highlight-default\"><div class=\"highlight\"><pre><span></span><span class=\"gp\">&gt;&gt;&gt; </span><span class=\"n\">s</span> <span class=\"o\">=</span> <span class=\"n\">pd</span><span class=\"o\">.</span><span class=\"n\">Series</span><span class=\"p\">(</span><span class=\"n\">data</span><span class=\"p\">,</span> <span class=\"n\">index</span><span class=\"o\">=</span><span class=\"n\">index</span><span class=\"p\">)</span>\n",
    "</pre></div>\n",
    "</div>\n",
    "<p>Here, <code class=\"docutils literal\"><span class=\"pre\">data</span></code> can be many different things:</p>\n",
    "<blockquote>\n",
    "<div><ul class=\"simple\">\n",
    "<li>a Python dict</li>\n",
    "<li>an ndarray</li>\n",
    "<li>a scalar value (like 5)</li>\n",
    "</ul>\n",
    "</div></blockquote>\n",
    "<p>The passed <strong>index</strong> is a list of axis labels. Thus, this separates into a few\n",
    "cases depending on what <strong>data is</strong>:</p>"
   ]
  }
