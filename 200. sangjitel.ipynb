{
 "cells": [
  {
   "cell_type": "markdown",
   "metadata": {},
   "source": [
    "# 상지대학교 전화번호 검색\n",
    "\n",
    "## Reference URL\n",
    "\n",
    "### (1) BeautifulSoup Documents \n",
    "\n",
    "https://www.crummy.com/software/BeautifulSoup/bs4/doc/\n",
    "\n",
    "### (2) Requests Documents\n",
    "http://docs.python-requests.org/en/master/user/quickstart/#make-a-request"
   ]
  },
  {
   "cell_type": "markdown",
   "metadata": {},
   "source": [
    "# [Step 1] Get HTML Document"
   ]
  },
  {
   "cell_type": "code",
   "execution_count": 2,
   "metadata": {
    "collapsed": false
   },
   "outputs": [],
   "source": [
    "from bs4 import BeautifulSoup;\n",
    "\n",
    "import requests;\n",
    "\n",
    "response_obj = requests.get(\"http://dblab.sangji.ac.kr\"); # requests.get() returns Response object "
   ]
  },
  {
   "cell_type": "markdown",
   "metadata": {},
   "source": [
    "## <img src=\"https://www.clipular.com/c/6167993743835136.png?k=nr7sPJLi0cdPcvbd8d9SKKhbrwA\">"
   ]
  },
  {
   "cell_type": "markdown",
   "metadata": {},
   "source": [
    "### requests.get() returns the response object\n",
    "\n",
    "<img src=\"https://lh3.googleusercontent.com/wTqUv087JLteCplcxIc8LWdrsBiCnSRnpLxeatmEbrGo83vZaLf-uQ82UnRgSWB_cGfAqAJ0ol-7JFqE3rMt_X0a=s0-c\">\n",
    "    \n",
    "<img src=\"https://www.clipular.com/c/5082050421063680.png?k=Ud8q477TAr4D3J4DdelQN_9cP-I\">\n",
    "    \n",
    "http://docs.python-requests.org/en/master/api/#requests.Response"
   ]
  },
  {
   "cell_type": "code",
   "execution_count": 3,
   "metadata": {
    "collapsed": false,
    "scrolled": true
   },
   "outputs": [],
   "source": [
    "content = response_obj.text;"
   ]
  },
  {
   "cell_type": "markdown",
   "metadata": {},
   "source": [
    "# [Step 2] HTML Document Parsing using BeautifulSoup"
   ]
  },
  {
   "cell_type": "code",
   "execution_count": 4,
   "metadata": {
    "collapsed": false
   },
   "outputs": [],
   "source": [
    "soup = BeautifulSoup(content, \"html.parser\");\n",
    "\n",
    "# print soup.prettify();"
   ]
  },
  {
   "cell_type": "markdown",
   "metadata": {},
   "source": [
    "### Here are some simple ways to navigate that data structure:\n",
    "<img src=\"http://www.clipular.com/c/4563379969851392.png?k=6ODqxkDVdfr8-Toz6O-e2WYbJaQ\">"
   ]
  },
  {
   "cell_type": "code",
   "execution_count": 11,
   "metadata": {
    "collapsed": false
   },
   "outputs": [
    {
     "name": "stdout",
     "output_type": "stream",
     "text": [
      "<title>Home</title>\n",
      "<p>Ofiical DBLAB Web Page at Sangji University</p>\n",
      "<section id=\"g-overlay\">\n",
      "<div class=\"g-container\">\n",
      "<div class=\"g-grid\">\n",
      "<div class=\"g-block fp-overlay-top size-100\">\n",
      "<div class=\"g-content g-particle\">\n",
      "<div class=\"\">\n",
      "<h2 class=\"g-title\">Direct Links to Courses</h2>\n",
      "<div class=\"g-promocontent\">\n",
      "<h2 class=\"g-title\"></h2>\n",
      "<div class=\"g-textpromo\">\n",
      "\t\t\tShortcut to Courses Materials\n",
      "\t\t</div>\n",
      "</div>\n",
      "</div>\n",
      "</div>\n",
      "</div>\n",
      "</div>\n",
      "<div class=\"g-grid\">\n",
      "<div class=\"g-block size-33-3\">\n",
      "<div class=\"g-content g-particle\">\n",
      "<div class=\"\">\n",
      "<ul class=\"g-pricingtable\">\n",
      "<li class=\"g-pricingtable-icon\"><i class=\"fa fa-database fa-fw fa-3x\"></i></li> <li class=\"g-pricingtable-title\">Database</li> <li class=\"g-pricingtable-subtitle\">Database Systems, DBMS, SQL</li> <li class=\"g-pricingtable-desc\">Database Systems Course Materials including PPT, PDF, and SQL Scripts. More Links to Get Useful Contents and Manuals.</li>\n",
      "<li class=\"g-pricingtable-cta\"><a class=\"button button-2\" href=\"/joomla/index.php/database\" target=\"_self\" title=\"Database\">Database</a></li>\n",
      "</ul>\n",
      "</div>\n",
      "</div>\n",
      "</div>\n",
      "<div class=\"g-block size-33-3\">\n",
      "<div class=\"g-content g-particle\">\n",
      "<div class=\"\">\n",
      "<ul class=\"g-pricingtable\">\n",
      "<li class=\"g-pricingtable-icon\"><i class=\"fa fa-file-code-o fa-fw fa-3x\"></i></li> <li class=\"g-pricingtable-title\">Python</li> <li class=\"g-pricingtable-subtitle\">Python Programming for Data Analysis</li> <li class=\"g-pricingtable-desc\">Python Development Environment and Python Programming. (Ipython, Ipython Notebook, Anaconda Numpy, Dataframe)</li>\n",
      "<li class=\"g-pricingtable-cta\"><a class=\"button button-2\" href=\"/joomla/index.php/python\" target=\"_blank\" title=\"Python\">Python</a></li>\n",
      "</ul>\n",
      "</div>\n",
      "</div>\n",
      "</div>\n",
      "<div class=\"g-block size-33-3\">\n",
      "<div class=\"g-content g-particle\">\n",
      "<div class=\"\">\n",
      "<ul class=\"g-pricingtable\">\n",
      "<li class=\"g-pricingtable-icon\"><i class=\"fa fa-tablet fa-fw fa-3x\"></i></li> <li class=\"g-pricingtable-title\">Database Programming</li> <li class=\"g-pricingtable-subtitle\">Database Programming with Oracle. SQL Development, PL/SQL, Python</li> <li class=\"g-pricingtable-desc\">Web Database Programming, Oracle Database Programming SQL and PL/SQL</li>\n",
      "<li class=\"g-pricingtable-cta\"><a class=\"button button-2\" href=\"/joomla/index.php/database-programming\" target=\"_self\" title=\"DBP\">DBP</a></li>\n",
      "</ul>\n",
      "</div>\n",
      "</div>\n",
      "</div>\n",
      "</div>\n",
      "</div>\n",
      "</section>\n"
     ]
    }
   ],
   "source": [
    "print soup.title\n",
    "print soup.p\n",
    "print soup.find(id=\"g-overlay\")\n",
    "#print soup.prettify()"
   ]
  },
  {
   "cell_type": "markdown",
   "metadata": {},
   "source": [
    "# [Step 3] 상지대학교 전화번호 검색 웹 페이지 분석\n",
    "<img src=\"http://www.clipular.com/c/5816104254701568.png?k=kOK6etzl8iztSw6AqehHf9QLPgA\">"
   ]
  },
  {
   "cell_type": "markdown",
   "metadata": {},
   "source": [
    "## [3-1] Web Page Source View"
   ]
  },
  {
   "cell_type": "markdown",
   "metadata": {},
   "source": [
    "<img src=\"http://www.clipular.com/c/6381366947348480.png?k=nuEeJvtksn7qSSjl0I3N5LvSJMk\">"
   ]
  },
  {
   "cell_type": "markdown",
   "metadata": {},
   "source": [
    "## [3-2] Result Page URL"
   ]
  },
  {
   "cell_type": "raw",
   "metadata": {},
   "source": [
    "http://www.sangji.ac.kr/user/indexSub.action?codyMenuSeq=13197569&siteId=sangji&menuType=T&uId=1&sortChar=AF&menuFrame=&linkUrl=01_06.html&mainFrame=right&dum=dum&page=&row=&command=find_list&teleIdx=183714&findType=category&findWord=학사관리"
   ]
  },
  {
   "cell_type": "markdown",
   "metadata": {},
   "source": [
    "## [3-3] Get HTML Document with Telephone Result Page URL"
   ]
  },
  {
   "cell_type": "code",
   "execution_count": 12,
   "metadata": {
    "collapsed": true
   },
   "outputs": [],
   "source": [
    "from bs4 import BeautifulSoup;\n",
    "\n",
    "import requests;\n",
    "\n",
    "response_obj = requests.get(\"http://www.sangji.ac.kr/user/indexSub.action?codyMenuSeq=13197569&siteId=sangji&menuType=T&uId=1&sortChar=AF&menuFrame=&linkUrl=01_06.html&mainFrame=right&dum=dum&page=&row=&command=find_list&teleIdx=183714&findType=category&findWord=학사관리\"); # requests.get() returns Response object "
   ]
  },
  {
   "cell_type": "code",
   "execution_count": 13,
   "metadata": {
    "collapsed": true
   },
   "outputs": [],
   "source": [
    "content = response_obj.text"
   ]
  },
  {
   "cell_type": "markdown",
   "metadata": {},
   "source": [
    "## [3-4] HTML Parsing"
   ]
  },
  {
   "cell_type": "code",
   "execution_count": 18,
   "metadata": {
    "collapsed": false
   },
   "outputs": [
    {
     "name": "stdout",
     "output_type": "stream",
     "text": [
      "<th scope=\"col\">부서(학과)명</th>\n"
     ]
    }
   ],
   "source": [
    "soup = BeautifulSoup(content, \"html.parser\");\n",
    "print soup.find(\"th\");\n",
    "#print soup.find(\"table\");"
   ]
  }
 ],
 "metadata": {
  "kernelspec": {
   "display_name": "Python 2",
   "language": "python",
   "name": "python2"
  },
  "language_info": {
   "codemirror_mode": {
    "name": "ipython",
    "version": 2
   },
   "file_extension": ".py",
   "mimetype": "text/x-python",
   "name": "python",
   "nbconvert_exporter": "python",
   "pygments_lexer": "ipython2",
   "version": "2.7.11"
  }
 },
 "nbformat": 4,
 "nbformat_minor": 0
}
