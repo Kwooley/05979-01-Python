{
 "cells": [
  {
   "cell_type": "markdown",
   "metadata": {},
   "source": [
    "<img src=\"http://www.clipular.com/c/5037071820652544.png?k=ORsfzP9pEHfKqXHFLTgvIvzDDs4\">"
   ]
  },
  {
   "cell_type": "markdown",
   "metadata": {},
   "source": [
    "<img src=\"http://www.clipular.com/c/6651930802913280.png?k=TWB6U6pkkttMqlzfIQi6oENicWA\">"
   ]
  },
  {
   "cell_type": "code",
   "execution_count": 2,
   "metadata": {
    "scrolled": true
   },
   "outputs": [
    {
     "name": "stdout",
     "output_type": "stream",
     "text": [
      "H e\n"
     ]
    }
   ],
   "source": [
    "s = 'Hello'\n",
    "a, b, c, d, e = s\n",
    "print a, b "
   ]
  },
  {
   "cell_type": "markdown",
   "metadata": {},
   "source": [
    "<img src=\"http://www.clipular.com/c/5350533029429248.png?k=Y_k6xvDA7qb2mIPWPUbZV5YIkTI\">"
   ]
  },
  {
   "cell_type": "code",
   "execution_count": 3,
   "metadata": {},
   "outputs": [
    {
     "name": "stdout",
     "output_type": "stream",
     "text": [
      "Average :  54\n"
     ]
    }
   ],
   "source": [
    "def drop_first_last(grade):\n",
    "#    first, *middle, last = grades   # only in python 3\n",
    "    a, middle, e = grade[0], grade[1:-1], grade[4]\n",
    "#    return avg(middle)\n",
    "    return sum(middle)/len(middle)\n",
    "\n",
    "grade = [90, 95, 45, 22, 85]\n",
    "print 'Average : ', drop_first_last(grade)"
   ]
  },
  {
   "cell_type": "markdown",
   "metadata": {},
   "source": [
    "<img src=\"http://www.clipular.com/c/6511600665362432.png?k=8fsvi37kG3_cafhG8xBj4aFtpZE\">"
   ]
  },
  {
   "cell_type": "code",
   "execution_count": 4,
   "metadata": {},
   "outputs": [
    {
     "name": "stdout",
     "output_type": "stream",
     "text": [
      "string deque([], maxlen=3)\n",
      "string2 deque(['string', 'database', 'network'], maxlen=3)\n",
      "string3 deque(['database', 'network', 'string2'], maxlen=3)\n",
      "string4 deque(['network', 'string2', 'string3'], maxlen=3)\n",
      "string5 deque(['string2', 'string3', 'string4'], maxlen=3)\n",
      "string6 deque(['string3', 'string4', 'string5'], maxlen=3)\n"
     ]
    }
   ],
   "source": [
    "from collections import deque\n",
    "\n",
    "def search(lines, pattern, history=5):\n",
    "    previous_lines = deque(maxlen=history)\n",
    "    for line in lines:\n",
    "        if pattern in line:\n",
    "            yield line, previous_lines   # retrun as a iterator (line, plines)\n",
    "        previous_lines.append(line)\n",
    "        \n",
    "lines = ['string', 'database', 'network', 'string2', 'string3', 'string4', 'string5', 'string6']\n",
    "\n",
    "rval = search(lines, 'string', 3)\n",
    "\n",
    "for line, pline in rval:\n",
    "    print line, pline\n",
    "\n",
    "\n",
    "        "
   ]
  },
  {
   "cell_type": "markdown",
   "metadata": {},
   "source": [
    "## Deque Example"
   ]
  },
  {
   "cell_type": "code",
   "execution_count": 5,
   "metadata": {},
   "outputs": [
    {
     "data": {
      "text/plain": [
       "deque([1, 2, 3])"
      ]
     },
     "execution_count": 5,
     "metadata": {},
     "output_type": "execute_result"
    }
   ],
   "source": [
    "from collections import deque\n",
    "\n",
    "q = deque(maxlen=3)\n",
    "q.append(1)\n",
    "q.append(2)\n",
    "q.append(3)\n",
    "q"
   ]
  },
  {
   "cell_type": "code",
   "execution_count": 6,
   "metadata": {},
   "outputs": [
    {
     "data": {
      "text/plain": [
       "deque([2, 3, 4])"
      ]
     },
     "execution_count": 6,
     "metadata": {},
     "output_type": "execute_result"
    }
   ],
   "source": [
    "q.append(4)\n",
    "q"
   ]
  },
  {
   "cell_type": "code",
   "execution_count": 7,
   "metadata": {},
   "outputs": [
    {
     "data": {
      "text/plain": [
       "deque([3, 4, 5])"
      ]
     },
     "execution_count": 7,
     "metadata": {},
     "output_type": "execute_result"
    }
   ],
   "source": [
    "q.append(5)\n",
    "q"
   ]
  },
  {
   "cell_type": "code",
   "execution_count": 8,
   "metadata": {},
   "outputs": [
    {
     "data": {
      "text/plain": [
       "5"
      ]
     },
     "execution_count": 8,
     "metadata": {},
     "output_type": "execute_result"
    }
   ],
   "source": [
    "q.pop()"
   ]
  },
  {
   "cell_type": "code",
   "execution_count": 9,
   "metadata": {},
   "outputs": [
    {
     "data": {
      "text/plain": [
       "3"
      ]
     },
     "execution_count": 9,
     "metadata": {},
     "output_type": "execute_result"
    }
   ],
   "source": [
    "q.popleft()"
   ]
  },
  {
   "cell_type": "code",
   "execution_count": 10,
   "metadata": {},
   "outputs": [
    {
     "data": {
      "text/plain": [
       "deque([9, 4])"
      ]
     },
     "execution_count": 10,
     "metadata": {},
     "output_type": "execute_result"
    }
   ],
   "source": [
    "q.appendleft(9)\n",
    "q"
   ]
  },
  {
   "cell_type": "markdown",
   "metadata": {},
   "source": [
    "<img src=\"http://www.clipular.com/c/5327858823331840.png?k=cAN-RyFQR2G05p3MVRBAVJ29rVc\">"
   ]
  },
  {
   "cell_type": "code",
   "execution_count": 11,
   "metadata": {
    "scrolled": true
   },
   "outputs": [
    {
     "name": "stdout",
     "output_type": "stream",
     "text": [
      "[{'price': 16.35, 'name': 'YHOO', 'shares': 45}, {'price': 21.09, 'name': 'FB', 'shares': 200}, {'price': 31.75, 'name': 'HPQ', 'shares': 35}]\n",
      "[{'price': 543.22, 'name': 'AAPL', 'shares': 50}, {'price': 115.65, 'name': 'ACME', 'shares': 75}, {'price': 91.1, 'name': 'IBM', 'shares': 100}]\n"
     ]
    }
   ],
   "source": [
    "import heapq\n",
    "\n",
    "portfolio = [ {'name': 'IBM', 'shares': 100, 'price': 91.1},\n",
    "              {'name': 'AAPL', 'shares': 50, 'price': 543.22},\n",
    "              {'name': 'FB', 'shares': 200, 'price': 21.09},\n",
    "              {'name': 'HPQ', 'shares': 35, 'price': 31.75},\n",
    "              {'name': 'YHOO', 'shares': 45, 'price': 16.35},\n",
    "              {'name': 'ACME', 'shares': 75, 'price': 115.65} ] \n",
    "\n",
    "cheap = heapq.nsmallest(3, portfolio, key=lambda s: s['price']) \n",
    "print cheap\n",
    "expensive = heapq.nlargest(3, portfolio, key=lambda s: s['price']) \n",
    "print expensive"
   ]
  },
  {
   "cell_type": "markdown",
   "metadata": {},
   "source": [
    "## Heap Examples"
   ]
  },
  {
   "cell_type": "code",
   "execution_count": 12,
   "metadata": {},
   "outputs": [
    {
     "data": {
      "text/plain": [
       "[-4, 2, 1, 23, 7, 2, 18, 23, 42, 37, 8]"
      ]
     },
     "execution_count": 12,
     "metadata": {},
     "output_type": "execute_result"
    }
   ],
   "source": [
    "import heapq\n",
    "\n",
    "nums = [1, 8, 2, 23, 7, -4, 18, 23, 42, 37, 2] \n",
    "heap = list(nums)   # make a copied list 'heap'. for keeping the original list nums\n",
    "heapq.heapify(heap)\n",
    "heap"
   ]
  },
  {
   "cell_type": "markdown",
   "metadata": {},
   "source": [
    "<img src=\"http://www.clipular.com/c/4950841896468480.png?k=xygo2dycMGHEem_wBA0MOdy2njQ\">"
   ]
  },
  {
   "cell_type": "code",
   "execution_count": 13,
   "metadata": {},
   "outputs": [
    {
     "data": {
      "text/plain": [
       "-4"
      ]
     },
     "execution_count": 13,
     "metadata": {},
     "output_type": "execute_result"
    }
   ],
   "source": [
    "heapq.heappop(heap)"
   ]
  },
  {
   "cell_type": "code",
   "execution_count": 14,
   "metadata": {},
   "outputs": [
    {
     "data": {
      "text/plain": [
       "1"
      ]
     },
     "execution_count": 14,
     "metadata": {},
     "output_type": "execute_result"
    }
   ],
   "source": [
    "heapq.heappop(heap)"
   ]
  },
  {
   "cell_type": "markdown",
   "metadata": {},
   "source": [
    "Similarly, if N is about the same size as the collection itself, it is usually faster to sort it first and take a slice (i.e., use sorted(items)[:N]  or sorted(items)[-N:]). "
   ]
  },
  {
   "cell_type": "code",
   "execution_count": 15,
   "metadata": {},
   "outputs": [
    {
     "data": {
      "text/plain": [
       "[-4, 1, 2, 2, 7, 8, 18, 23, 23, 37, 42]"
      ]
     },
     "execution_count": 15,
     "metadata": {},
     "output_type": "execute_result"
    }
   ],
   "source": [
    "sorted(nums)"
   ]
  },
  {
   "cell_type": "code",
   "execution_count": 16,
   "metadata": {},
   "outputs": [
    {
     "data": {
      "text/plain": [
       "[-4, 1, 2, 2, 7]"
      ]
     },
     "execution_count": 16,
     "metadata": {},
     "output_type": "execute_result"
    }
   ],
   "source": [
    "sorted(nums)[:5]"
   ]
  },
  {
   "cell_type": "code",
   "execution_count": 17,
   "metadata": {},
   "outputs": [
    {
     "data": {
      "text/plain": [
       "[18, 23, 23, 37, 42]"
      ]
     },
     "execution_count": 17,
     "metadata": {},
     "output_type": "execute_result"
    }
   ],
   "source": [
    "sorted(nums)[-5:]"
   ]
  },
  {
   "cell_type": "markdown",
   "metadata": {},
   "source": [
    "<img src=\"http://www.clipular.com/c/5465889542766592.png?k=6Nh06BtsBlEH7vYnGRSoKAHJixQ\">"
   ]
  },
  {
   "cell_type": "markdown",
   "metadata": {},
   "source": [
    "<blockquote>\n",
    "<p class=\"parent-word\" data-transform-scale-x=\"0.8182551899137779\" data-canvas-width=\"601.4734999999997\"><span class=\"word\">The</span> <span class=\"word\">choice</span> <span class=\"word\">of</span> <span class=\"word\">whether</span> <span class=\"word\">or</span> <span class=\"word\">not</span> <span class=\"word\">to</span> <em><span class=\"word\">use</span> <span class=\"word\">lists</span> <span class=\"word\">or</span> <span class=\"word\">sets</span></em> <span class=\"word\">depends</span> <span class=\"word\">on</span> <span class=\"word\">intended</span> <span class=\"word\">use.</span></p>\n",
    "<p class=\"parent-word\" data-transform-scale-x=\"0.8182551899137779\" data-canvas-width=\"601.4734999999997\"><span class=\"word\">Use</span> <span class=\"word\">a</span> <strong><span class=\"word\">list</span></strong> <span class=\"word\">if&nbsp;</span><span class=\"word\">you</span> <span class=\"word\">want</span> <span class=\"word\">to</span> <span class=\"word\">preserve</span> <span class=\"word\">the</span> <span class=\"word\">insertion</span> <span class=\"word\">order</span> <span class=\"word\">of</span> <span class=\"word\">the</span> <span class=\"word\">items.</span> <span class=\"word\">Use</span> <span class=\"word\">a</span> <strong><span class=\"word\">set</span></strong> <span class=\"word\">if</span> <span class=\"word\">you</span> <span class=\"word\">want</span> <span class=\"word\">to</span> <span class=\"word\">eliminate&nbsp;</span><span class=\"word\">duplicates</span> <span class=\"word\">(and</span> <span class=\"word\">don&rsquo;t</span> <span class=\"word\">care</span> <span class=\"word\">about</span> <span class=\"word\">the</span> <span class=\"word\">order).</span></p>\n",
    "<p class=\"parent-word\" data-transform-scale-x=\"0.8911293436462596\" data-canvas-width=\"602.5000333333332\"><span class=\"word\">T<strong>o</strong></span><strong> <span class=\"word\">easily</span> <span class=\"word\">construct</span> <span class=\"word\">such</span> </strong><span class=\"word\"><strong>dictionaries</strong>,</span> <span class=\"word\">you</span> <span class=\"word\">can</span> <span class=\"word\">use</span> <em><strong><span class=\"word\">defaultdict</span></strong></em> <span class=\"word\">in</span> <span class=\"word\">the</span> <span class=\"word\"><strong>collections</strong>&nbsp;</span><span class=\"word\">module.</span></p>\n",
    "<p class=\"parent-word\" data-transform-scale-x=\"0.8911293436462596\" data-canvas-width=\"602.5000333333332\"><span class=\"word\">A</span> <span class=\"word\">feature</span> <span class=\"word\">of</span> <span style=\"color: #993300;\"><em><strong><span class=\"word\">defaultdict</span></strong></em></span> <span class=\"word\">is</span> <span class=\"word\">that</span> <span class=\"word\">it</span> <span class=\"word\">automatically</span> <span class=\"word\">initializes</span> <span class=\"word\">the</span> <span class=\"word\">first</span> <span class=\"word\">value</span> <span class=\"word\">so&nbsp;</span><span class=\"word\">you</span> <span class=\"word\">can</span> <span class=\"word\">simply</span> <span class=\"word\">focus</span> <span class=\"word\">on</span> <span class=\"word\">adding</span> <span class=\"word\">items.</span> <span class=\"word\">For</span> <span class=\"word\">example:</span></p>\n",
    "</blockquote>"
   ]
  },
  {
   "cell_type": "code",
   "execution_count": 18,
   "metadata": {},
   "outputs": [
    {
     "data": {
      "text/plain": [
       "defaultdict(list, {'a': [1, 2], 'b': [3], 'c': [4]})"
      ]
     },
     "execution_count": 18,
     "metadata": {},
     "output_type": "execute_result"
    }
   ],
   "source": [
    "from collections import defaultdict\n",
    "\n",
    "d = defaultdict(list)  # list defaultdict\n",
    "\n",
    "d['a'].append(1)\n",
    "d['a'].append(2)\n",
    "d['b'].append(3)\n",
    "d['c'].append(4)\n",
    "\n",
    "d"
   ]
  },
  {
   "cell_type": "code",
   "execution_count": 19,
   "metadata": {},
   "outputs": [
    {
     "data": {
      "text/plain": [
       "defaultdict(set, {'a': {1, 2}, 'b': {3}, 'c': {4}})"
      ]
     },
     "execution_count": 19,
     "metadata": {},
     "output_type": "execute_result"
    }
   ],
   "source": [
    "from collections import defaultdict\n",
    "\n",
    "d = defaultdict(set)  # list defaultdict\n",
    "\n",
    "d['a'].add(1)\n",
    "d['a'].add(2)\n",
    "d['b'].add(3)\n",
    "d['c'].add(4)\n",
    "\n",
    "d\n"
   ]
  },
  {
   "cell_type": "markdown",
   "metadata": {},
   "source": [
    "## Discussion :  Constructing a Multivalued Dictionary"
   ]
  },
  {
   "cell_type": "markdown",
   "metadata": {},
   "source": [
    "### Initialization of the first value can be messy"
   ]
  },
  {
   "cell_type": "code",
   "execution_count": 20,
   "metadata": {},
   "outputs": [
    {
     "data": {
      "text/plain": [
       "{'a': [1, 2], 'b': [1], 'c': [3]}"
      ]
     },
     "execution_count": 20,
     "metadata": {},
     "output_type": "execute_result"
    }
   ],
   "source": [
    "d = {}  # Regular Dictionary\n",
    "\n",
    "pairs = [ ('a', 1), ('a', 2), ('b', 1), ('c', 3)]\n",
    "\n",
    "for key, value in pairs:\n",
    "    if key not in d:\n",
    "        d[key] = []  # initialize the list for multi-valued key\n",
    "    d[key].append(value)\n",
    "\n",
    "d"
   ]
  },
  {
   "cell_type": "markdown",
   "metadata": {},
   "source": [
    "### Using the default dict. No need to initailze"
   ]
  },
  {
   "cell_type": "code",
   "execution_count": 21,
   "metadata": {},
   "outputs": [
    {
     "data": {
      "text/plain": [
       "defaultdict(list, {'a': [1, 2], 'b': [1], 'c': [3]})"
      ]
     },
     "execution_count": 21,
     "metadata": {},
     "output_type": "execute_result"
    }
   ],
   "source": [
    "d = defaultdict(list)\n",
    "\n",
    "pairs = [ ('a', 1), ('a', 2), ('b', 1), ('c', 3)]\n",
    "for key, value in pairs:\n",
    "    d[key].append(value)\n",
    "    \n",
    "d\n"
   ]
  },
  {
   "cell_type": "markdown",
   "metadata": {},
   "source": [
    "<img src=\"http://www.clipular.com/c/5918949234704384.png?k=54hpJ1rV1XQheOxqqOBRtlCOVW0\">\n",
    "<img src=\"http://www.clipular.com/c/4806161628135424.png?k=eY1EYpP5Vt-kAxgvOk5VXWAnJaE\">"
   ]
  },
  {
   "cell_type": "markdown",
   "metadata": {},
   "source": [
    "<img src=\"http://www.clipular.com/c/6563611779792896.png?k=o59w7f-8fIWRjch4ql7ardpmrQA\">"
   ]
  },
  {
   "cell_type": "markdown",
   "metadata": {},
   "source": [
    "<img src=\"http://www.clipular.com/c/5860479328321536.png?k=QeOHOPtGO0GrD1dAVPDPNYu4_Rw\">"
   ]
  },
  {
   "cell_type": "code",
   "execution_count": 22,
   "metadata": {},
   "outputs": [
    {
     "data": {
      "text/plain": [
       "{'AAPL': 612.78, 'ACME': 45.23, 'FB': 10.75, 'HPQ': 37.2, 'IBM': 205.55}"
      ]
     },
     "execution_count": 22,
     "metadata": {},
     "output_type": "execute_result"
    }
   ],
   "source": [
    "prices = {   'ACME': 45.23,\n",
    "             'AAPL': 612.78,\n",
    "             'IBM': 205.55,\n",
    "             'HPQ': 37.20,\n",
    "             'FB': 10.75 }\n",
    "prices"
   ]
  },
  {
   "cell_type": "markdown",
   "metadata": {},
   "source": [
    "<img src=\"http://www.clipular.com/c/6234421998125056.png?k=D_hw9dyNQmNZ_V7PZ1_Cg93QuE0\">"
   ]
  },
  {
   "cell_type": "code",
   "execution_count": 23,
   "metadata": {},
   "outputs": [
    {
     "name": "stdout",
     "output_type": "stream",
     "text": [
      "(10.75, 'FB')\n",
      "(612.78, 'AAPL')\n"
     ]
    }
   ],
   "source": [
    "min_price = min(zip(prices.values(), prices.keys()))\n",
    "max_price = max(zip(prices.values(), prices.keys()))\n",
    "print min_price\n",
    "print max_price"
   ]
  },
  {
   "cell_type": "code",
   "execution_count": 24,
   "metadata": {},
   "outputs": [
    {
     "name": "stdout",
     "output_type": "stream",
     "text": [
      "[(10.75, 'FB'), (37.2, 'HPQ'), (45.23, 'ACME'), (205.55, 'IBM'), (612.78, 'AAPL')]\n"
     ]
    }
   ],
   "source": [
    "prices_sorted = sorted(zip(prices.values(), prices.keys()))\n",
    "\n",
    "print prices_sorted"
   ]
  },
  {
   "cell_type": "markdown",
   "metadata": {},
   "source": [
    "<img src=\"http://www.clipular.com/c/4808724247216128.png?k=1R0EurUHgrkTZAHciYxIbcNJrls\">"
   ]
  },
  {
   "cell_type": "code",
   "execution_count": 25,
   "metadata": {},
   "outputs": [
    {
     "name": "stdout",
     "output_type": "stream",
     "text": [
      "(10.75, 'FB')\n",
      "(612.78, 'AAPL')\n"
     ]
    }
   ],
   "source": [
    "prices_and_names = zip(prices.values(), prices.keys())\n",
    "\n",
    "print min(prices_and_names)\n",
    "print max(prices_and_names)  ############################  IN Python 2.x. It is OK!!!!!!!!!!"
   ]
  },
  {
   "cell_type": "markdown",
   "metadata": {},
   "source": [
    "## Discussion : Calculating with Dictionaries"
   ]
  },
  {
   "cell_type": "markdown",
   "metadata": {},
   "source": [
    "<blockquote>\n",
    "<p class=\"parent-word\" data-transform-scale-x=\"0.8182551899137779\" data-canvas-width=\"601.4734999999997\">If you try to perform common data reductions on a dictionary, you&rsquo;ll find that they only process <em><span style=\"color: #ff0000;\"><strong>the keys, not the values</strong></span></em>. For example:</p>\n",
    "</blockquote>"
   ]
  },
  {
   "cell_type": "code",
   "execution_count": 26,
   "metadata": {
    "scrolled": true
   },
   "outputs": [
    {
     "name": "stdout",
     "output_type": "stream",
     "text": [
      "AAPL\n",
      "IBM\n"
     ]
    }
   ],
   "source": [
    "prices = {   'ACME': 45.23,\n",
    "             'AAPL': 612.78,\n",
    "             'IBM': 205.55,\n",
    "             'HPQ': 37.20,\n",
    "             'FB': 10.75 }\n",
    "print min(prices)\n",
    "print max(prices)"
   ]
  },
  {
   "cell_type": "code",
   "execution_count": 27,
   "metadata": {
    "scrolled": true
   },
   "outputs": [
    {
     "name": "stdout",
     "output_type": "stream",
     "text": [
      "10.75\n",
      "612.78\n"
     ]
    }
   ],
   "source": [
    "print min(prices.values())\n",
    "print max(prices.values())  ## You may want to know information about the CORRESPONDING KEYS"
   ]
  },
  {
   "cell_type": "markdown",
   "metadata": {},
   "source": [
    "<img src=\"http://www.clipular.com/c/5571780485054464.png?k=571ONRmhg71mC4GqxglpyrEs4WQ\">"
   ]
  },
  {
   "cell_type": "code",
   "execution_count": 28,
   "metadata": {},
   "outputs": [
    {
     "name": "stdout",
     "output_type": "stream",
     "text": [
      "FB\n",
      "AAPL\n"
     ]
    }
   ],
   "source": [
    "print min(prices, key=lambda k: prices[k])\n",
    "print max(prices, key=lambda k: prices[k])"
   ]
  },
  {
   "cell_type": "code",
   "execution_count": 29,
   "metadata": {
    "scrolled": true
   },
   "outputs": [
    {
     "name": "stdout",
     "output_type": "stream",
     "text": [
      "10.75\n"
     ]
    }
   ],
   "source": [
    "min_value = prices[min(prices, key=lambda k: prices[k])]\n",
    "print min_value"
   ]
  },
  {
   "cell_type": "markdown",
   "metadata": {},
   "source": [
    "<img src=\"http://www.clipular.com/c/5112757566570496.png?k=D_c6jkwLPuW7Z6hiDN7INu7kf5o\">\n",
    "<img src=\"http://www.clipular.com/c/5178675013353472.png?k=O2F_7O4iVxo15ZK8ZhPUP14F05w\">"
   ]
  },
  {
   "cell_type": "markdown",
   "metadata": {},
   "source": [
    "<blockquote>\n",
    "<div class=\"parent-word\" data-transform-scale-x=\"0.8498908284270901\" data-canvas-width=\"600.89315\"><span class=\"word\">Although</span> <span class=\"word\">similar,</span> <span class=\"word\">the</span><em><span class=\"word\" style=\"color: #ff0000;\"><strong> values()</strong> </span></em><span class=\"word\">method</span> <span class=\"word\">of</span> <span class=\"word\">a</span> <span class=\"word\">dictionary</span> <strong><span style=\"color: #ff0000;\"><span class=\"word\">does</span> <span class=\"word\">not</span> <span class=\"word\">support</span> <span class=\"word\">the</span> <span class=\"word\">set</span> <span class=\"word\">oper‐</span></span></strong></div>\n",
    "<div class=\"parent-word\" data-transform-scale-x=\"0.8098104555060922\" data-canvas-width=\"600.8987333333329\"><strong><span class=\"word\" style=\"color: #ff0000;\">ations</span></strong> <span class=\"word\">described</span> <span class=\"word\">in</span> <span class=\"word\">this</span> <span class=\"word\">recipe.</span> <span class=\"word\">In</span> <span class=\"word\">part,</span> <span class=\"word\">this</span> <span class=\"word\">is</span> <span class=\"word\">due</span> <span class=\"word\">to</span> <span class=\"word\">the</span> <span class=\"word\">fact</span> <span class=\"word\">that</span> <span class=\"word\">unlike</span> <span class=\"word\">keys,</span> <span class=\"word\">the</span> <span class=\"word\">items</span></div>\n",
    "<div class=\"parent-word\" data-transform-scale-x=\"0.808228504176956\" data-canvas-width=\"600.8989500000001\"><span class=\"word\">contained</span> <span class=\"word\">in</span> <span class=\"word\">a</span> <span class=\"word\">values</span> <span class=\"word\">view</span> <span class=\"word\">aren&rsquo;t</span> <span class=\"word\">guaranteed</span> <span class=\"word\">to</span> <span class=\"word\">be</span> <span class=\"word\">unique.</span> <span class=\"word\">This</span> <span class=\"word\">alone</span> <span class=\"word\">makes</span> <span class=\"word\">certain</span> <span class=\"word\">set</span></div>\n",
    "<div class=\"parent-word\" data-transform-scale-x=\"0.8100159612448001\" data-canvas-width=\"600.89895\"><span class=\"word\">operations</span> <span class=\"word\">of</span> <span class=\"word\">questionable</span> <span class=\"word\">utility.</span> <span class=\"word\">However,</span> <span class=\"word\">if</span> <span class=\"word\">you</span> <span class=\"word\">must</span> <span class=\"word\">perform</span> <span class=\"word\">such</span> <span class=\"word\">calculations,</span> <span class=\"word\">they</span></div>\n",
    "<div class=\"parent-word\" data-transform-scale-x=\"0.8103589210789207\" data-canvas-width=\"459.4513499999998\"><span class=\"word\">can</span> <span class=\"word\">be</span> <span class=\"word\">accomplished</span> <span class=\"word\">by</span> <span class=\"word\">simply</span> <span class=\"word\">converting</span> <span class=\"word\">the</span> <span class=\"word\">values</span> <span class=\"word\">to</span> <span class=\"word\">a</span> <span class=\"word\">set</span> <span class=\"word\">first.</span></div>\n",
    "<p class=\"parent-word\" data-transform-scale-x=\"0.8182551899137779\" data-canvas-width=\"601.4734999999997\">:</p>\n",
    "</blockquote>"
   ]
  },
  {
   "cell_type": "markdown",
   "metadata": {},
   "source": [
    "### In Python 2.x, a.key() makes a list\n",
    "### use set() such that  set(a.keys()) "
   ]
  },
  {
   "cell_type": "code",
   "execution_count": 30,
   "metadata": {},
   "outputs": [
    {
     "data": {
      "text/plain": [
       "{'x', 'y'}"
      ]
     },
     "execution_count": 30,
     "metadata": {},
     "output_type": "execute_result"
    }
   ],
   "source": [
    "a = { 'x' : 1,\n",
    "      'y' : 2,\n",
    "      'z' : 3 }\n",
    "\n",
    "b = { 'w' : 10,\n",
    "      'x' : 11,\n",
    "      'y' : 2 \n",
    "    }\n",
    "\n",
    "# Find keys in common\n",
    "set(a.keys())  &  set(b.keys())   # Python 2.x, a.keys() returns a LIST. "
   ]
  },
  {
   "cell_type": "code",
   "execution_count": 31,
   "metadata": {
    "scrolled": true
   },
   "outputs": [
    {
     "data": {
      "text/plain": [
       "{'z'}"
      ]
     },
     "execution_count": 31,
     "metadata": {},
     "output_type": "execute_result"
    }
   ],
   "source": [
    "set(a.keys()) - set(b.keys())"
   ]
  },
  {
   "cell_type": "code",
   "execution_count": 32,
   "metadata": {
    "scrolled": true
   },
   "outputs": [
    {
     "data": {
      "text/plain": [
       "{('y', 2)}"
      ]
     },
     "execution_count": 32,
     "metadata": {},
     "output_type": "execute_result"
    }
   ],
   "source": [
    "### Find (key, value) paris in common\n",
    "set(a.items()) & set(b.items())"
   ]
  },
  {
   "cell_type": "markdown",
   "metadata": {},
   "source": [
    "<img src=\"http://www.clipular.com/c/6424819609632768.png?k=5I4SKhMTDTkD_rbO-RAHJ8p7cXw\">"
   ]
  },
  {
   "cell_type": "code",
   "execution_count": 33,
   "metadata": {},
   "outputs": [
    {
     "data": {
      "text/plain": [
       "<generator object dedupe at 0x7f5b27b058c0>"
      ]
     },
     "execution_count": 33,
     "metadata": {},
     "output_type": "execute_result"
    }
   ],
   "source": [
    "def dedupe(items):\n",
    "    seen = set()\n",
    "    for item in items:\n",
    "        if item not in seen:\n",
    "            yield item\n",
    "            seen.add(item)\n",
    "            \n",
    "            \n",
    "a = [1, 5, 2, 1, 9, 1, 5, 10]\n",
    "\n",
    "ret_val = dedupe(a)\n",
    "\n",
    "ret_val "
   ]
  },
  {
   "cell_type": "code",
   "execution_count": 34,
   "metadata": {},
   "outputs": [
    {
     "name": "stdout",
     "output_type": "stream",
     "text": [
      "1 5 2 9 10 \n"
     ]
    }
   ],
   "source": [
    "for i in ret_val: \n",
    "    print i,\n",
    "print ''"
   ]
  },
  {
   "cell_type": "code",
   "execution_count": 35,
   "metadata": {},
   "outputs": [
    {
     "data": {
      "text/plain": [
       "[]"
      ]
     },
     "execution_count": 35,
     "metadata": {},
     "output_type": "execute_result"
    }
   ],
   "source": [
    "### Generator : At this time the Generator ret_val is empty. Because the Generator is exhausted after use.\n",
    "list(ret_val)"
   ]
  },
  {
   "cell_type": "markdown",
   "metadata": {},
   "source": [
    "<img src=\"http://www.clipular.com/c/5867492573708288.png?k=qBJ8PceJjwu-QVKo4YBcMyln7EE\">"
   ]
  },
  {
   "cell_type": "code",
   "execution_count": 36,
   "metadata": {},
   "outputs": [
    {
     "name": "stdout",
     "output_type": "stream",
     "text": [
      "[{'y': 2, 'x': 1}, {'y': 3, 'x': 1}, {'y': 2, 'x': 1}, {'y': 4, 'x': 2}]\n",
      "set([(1, 2), (1, 3), (2, 4)])\n",
      "[{'y': 2, 'x': 1}, {'y': 3, 'x': 1}, {'y': 4, 'x': 2}]\n"
     ]
    }
   ],
   "source": [
    "def dedup_unhashable(items, key=None):\n",
    "    seen = set()\n",
    "    print items\n",
    "    for item in items:\n",
    "        val = item if key is None else key(item)\n",
    "        if val not in seen:\n",
    "            yield item\n",
    "            seen.add(val)\n",
    "    print seen        \n",
    "\n",
    "a = [ {'x':1, 'y':2},\n",
    "      {'x':1, 'y':3},\n",
    "      {'x':1, 'y':2},\n",
    "      {'x':2, 'y':4}\n",
    "    ]\n",
    "\n",
    "ret_val = dedup_unhashable(a, key=lambda d: (d['x'], d['y']))\n",
    "print list(ret_val)"
   ]
  },
  {
   "cell_type": "code",
   "execution_count": 37,
   "metadata": {},
   "outputs": [
    {
     "name": "stdout",
     "output_type": "stream",
     "text": [
      "[{'y': 2, 'x': 1}, {'y': 3, 'x': 1}, {'y': 2, 'x': 1}, {'y': 4, 'x': 2}]\n",
      "set([1, 2])\n",
      "[{'y': 2, 'x': 1}, {'y': 4, 'x': 2}]\n"
     ]
    }
   ],
   "source": [
    "ret_val = dedup_unhashable(a, key=lambda d: (d['x']))\n",
    "\n",
    "print list(ret_val)"
   ]
  },
  {
   "cell_type": "markdown",
   "metadata": {},
   "source": [
    "<img src=\"http://www.clipular.com/c/5905644499763200.png?k=il-maYopUveJGwVRhM-oA7JlQtk\">"
   ]
  },
  {
   "cell_type": "code",
   "execution_count": 38,
   "metadata": {},
   "outputs": [
    {
     "name": "stdout",
     "output_type": "stream",
     "text": [
      "[('eyes', 8), ('the', 5), ('look', 4)]\n"
     ]
    }
   ],
   "source": [
    "words = [  'look', 'into', 'my', 'eyes', 'look', 'into', 'my', \n",
    "           'eyes','the', 'eyes', 'the', 'eyes', 'the', 'eyes', \n",
    "           'not', 'around', 'the','eyes', \"don't\", 'look', 'around', \n",
    "           'the', 'eyes', 'look', 'into','my', 'eyes', \"you're\", 'under' ] \n",
    "\n",
    "from collections import Counter\n",
    "word_counts = Counter(words)\n",
    "\n",
    "top_three = word_counts.most_common(3)\n",
    "\n",
    "print top_three"
   ]
  },
  {
   "cell_type": "code",
   "execution_count": 39,
   "metadata": {},
   "outputs": [
    {
     "data": {
      "text/plain": [
       "1"
      ]
     },
     "execution_count": 39,
     "metadata": {},
     "output_type": "execute_result"
    }
   ],
   "source": [
    "word_counts['under']"
   ]
  },
  {
   "cell_type": "markdown",
   "metadata": {},
   "source": [
    "#### If you want to increment the count manually, simply use addition: "
   ]
  },
  {
   "cell_type": "code",
   "execution_count": 40,
   "metadata": {
    "scrolled": true
   },
   "outputs": [
    {
     "data": {
      "text/plain": [
       "Counter({'are': 1,\n",
       "         'around': 2,\n",
       "         \"don't\": 1,\n",
       "         'eyes': 9,\n",
       "         'in': 1,\n",
       "         'into': 3,\n",
       "         'look': 4,\n",
       "         'looking': 1,\n",
       "         'my': 4,\n",
       "         'not': 2,\n",
       "         'the': 5,\n",
       "         'under': 1,\n",
       "         'why': 1,\n",
       "         'you': 1,\n",
       "         \"you're\": 1})"
      ]
     },
     "execution_count": 40,
     "metadata": {},
     "output_type": "execute_result"
    }
   ],
   "source": [
    "morewords = ['why','are','you','not','looking','in','my','eyes']\n",
    "\n",
    "for word in morewords:\n",
    "    word_counts[word] += 1 \n",
    "word_counts"
   ]
  },
  {
   "cell_type": "markdown",
   "metadata": {},
   "source": [
    "#### Or, alternatively, you could use the update() method: "
   ]
  },
  {
   "cell_type": "code",
   "execution_count": 41,
   "metadata": {
    "scrolled": true
   },
   "outputs": [
    {
     "data": {
      "text/plain": [
       "Counter({'are': 2,\n",
       "         'around': 2,\n",
       "         \"don't\": 1,\n",
       "         'eyes': 10,\n",
       "         'in': 2,\n",
       "         'into': 3,\n",
       "         'look': 4,\n",
       "         'looking': 2,\n",
       "         'my': 5,\n",
       "         'not': 3,\n",
       "         'the': 5,\n",
       "         'under': 1,\n",
       "         'why': 2,\n",
       "         'you': 2,\n",
       "         \"you're\": 1})"
      ]
     },
     "execution_count": 41,
     "metadata": {},
     "output_type": "execute_result"
    }
   ],
   "source": [
    "word_counts.update(morewords)\n",
    "word_counts"
   ]
  },
  {
   "cell_type": "markdown",
   "metadata": {},
   "source": [
    "<img src=\"http://www.clipular.com/c/5599927922327552.png?k=tT0mE9qR_uJ9WR9wQGRBbzo6HVQ\">\n"
   ]
  },
  {
   "cell_type": "markdown",
   "metadata": {},
   "source": [
    "<img src=\"http://www.clipular.com/c/5250973372252160.png?k=TVXFf2XeW0LRcVQ3IG7mkvYpdFI\">"
   ]
  },
  {
   "cell_type": "code",
   "execution_count": 42,
   "metadata": {
    "collapsed": true
   },
   "outputs": [],
   "source": [
    "rows = [ {'fname': 'Brian', 'lname': 'Jones', 'uid': 1003},\n",
    "         {'fname': 'David', 'lname': 'Beazley', 'uid': 1002},\n",
    "         {'fname': 'John', 'lname': 'Cleese', 'uid': 1001},\n",
    "         {'fname': 'Big', 'lname': 'Jones', 'uid': 1004} ] "
   ]
  },
  {
   "cell_type": "code",
   "execution_count": 43,
   "metadata": {},
   "outputs": [
    {
     "name": "stdout",
     "output_type": "stream",
     "text": [
      "[{'lname': 'Jones', 'uid': 1004, 'fname': 'Big'}, {'lname': 'Jones', 'uid': 1003, 'fname': 'Brian'}, {'lname': 'Beazley', 'uid': 1002, 'fname': 'David'}, {'lname': 'Cleese', 'uid': 1001, 'fname': 'John'}]\n"
     ]
    }
   ],
   "source": [
    "from operator import itemgetter\n",
    "\n",
    "rows_by_fname = sorted(rows, key=itemgetter('fname'))\n",
    "\n",
    "print rows_by_fname"
   ]
  },
  {
   "cell_type": "code",
   "execution_count": 44,
   "metadata": {},
   "outputs": [
    {
     "name": "stdout",
     "output_type": "stream",
     "text": [
      "[{'lname': 'Cleese', 'uid': 1001, 'fname': 'John'}, {'lname': 'Beazley', 'uid': 1002, 'fname': 'David'}, {'lname': 'Jones', 'uid': 1003, 'fname': 'Brian'}, {'lname': 'Jones', 'uid': 1004, 'fname': 'Big'}]\n"
     ]
    }
   ],
   "source": [
    "rows_by_uid = sorted(rows, key=itemgetter('uid'))\n",
    "\n",
    "print rows_by_uid"
   ]
  },
  {
   "cell_type": "code",
   "execution_count": 45,
   "metadata": {
    "scrolled": true
   },
   "outputs": [
    {
     "name": "stdout",
     "output_type": "stream",
     "text": [
      "[{'lname': 'Beazley', 'uid': 1002, 'fname': 'David'}, {'lname': 'Cleese', 'uid': 1001, 'fname': 'John'}, {'lname': 'Jones', 'uid': 1004, 'fname': 'Big'}, {'lname': 'Jones', 'uid': 1003, 'fname': 'Brian'}]\n"
     ]
    }
   ],
   "source": [
    "rows_by_lfname = sorted(rows, key=itemgetter('lname', 'fname'))\n",
    "print rows_by_lfname"
   ]
  },
  {
   "cell_type": "markdown",
   "metadata": {},
   "source": [
    "<img src=\"http://www.clipular.com/c/5954551728570368.png?k=ea7-K0G6BraCgZ5Zr9zwPNuLDA0\">"
   ]
  },
  {
   "cell_type": "code",
   "execution_count": 46,
   "metadata": {},
   "outputs": [
    {
     "name": "stdout",
     "output_type": "stream",
     "text": [
      "[{'lname': 'Jones', 'uid': 1004, 'fname': 'Big'}, {'lname': 'Jones', 'uid': 1003, 'fname': 'Brian'}, {'lname': 'Beazley', 'uid': 1002, 'fname': 'David'}, {'lname': 'Cleese', 'uid': 1001, 'fname': 'John'}]\n",
      "[{'lname': 'Beazley', 'uid': 1002, 'fname': 'David'}, {'lname': 'Cleese', 'uid': 1001, 'fname': 'John'}, {'lname': 'Jones', 'uid': 1004, 'fname': 'Big'}, {'lname': 'Jones', 'uid': 1003, 'fname': 'Brian'}]\n"
     ]
    }
   ],
   "source": [
    "rows_by_fname = sorted(rows, key=lambda r: r['fname']) \n",
    "rows_by_lfname = sorted(rows, key=lambda r: (r['lname'],r['fname'])) \n",
    "\n",
    "print rows_by_fname\n",
    "print rows_by_lfname"
   ]
  },
  {
   "cell_type": "code",
   "execution_count": 47,
   "metadata": {},
   "outputs": [
    {
     "data": {
      "text/plain": [
       "{'fname': 'Big', 'lname': 'Jones', 'uid': 1004}"
      ]
     },
     "execution_count": 47,
     "metadata": {},
     "output_type": "execute_result"
    }
   ],
   "source": [
    "min(rows)"
   ]
  },
  {
   "cell_type": "code",
   "execution_count": 48,
   "metadata": {},
   "outputs": [
    {
     "data": {
      "text/plain": [
       "{'fname': 'John', 'lname': 'Cleese', 'uid': 1001}"
      ]
     },
     "execution_count": 48,
     "metadata": {},
     "output_type": "execute_result"
    }
   ],
   "source": [
    "min(rows, key=itemgetter('uid'))"
   ]
  },
  {
   "cell_type": "code",
   "execution_count": 49,
   "metadata": {},
   "outputs": [
    {
     "data": {
      "text/plain": [
       "{'fname': 'John', 'lname': 'Cleese', 'uid': 1001}"
      ]
     },
     "execution_count": 49,
     "metadata": {},
     "output_type": "execute_result"
    }
   ],
   "source": [
    "max(rows)"
   ]
  },
  {
   "cell_type": "code",
   "execution_count": 50,
   "metadata": {},
   "outputs": [
    {
     "data": {
      "text/plain": [
       "{'fname': 'Big', 'lname': 'Jones', 'uid': 1004}"
      ]
     },
     "execution_count": 50,
     "metadata": {},
     "output_type": "execute_result"
    }
   ],
   "source": [
    "max(rows, key=itemgetter('uid'))"
   ]
  },
  {
   "cell_type": "code",
   "execution_count": 51,
   "metadata": {},
   "outputs": [
    {
     "data": {
      "text/plain": [
       "{'fname': 'Big', 'lname': 'Jones', 'uid': 1004}"
      ]
     },
     "execution_count": 51,
     "metadata": {},
     "output_type": "execute_result"
    }
   ],
   "source": [
    "max(rows, key=lambda d: (d['uid']))  #### itemgetter typically runs a bit faster "
   ]
  },
  {
   "cell_type": "markdown",
   "metadata": {},
   "source": [
    "<img src=\"http://www.clipular.com/c/5355956063174656.png?k=wNGLPM-Xi9XPDeFwy2NrGWQTojc\">"
   ]
  },
  {
   "cell_type": "markdown",
   "metadata": {},
   "source": [
    "###  Python »   Documentation » The Python Standard Library » 9. Numeric and Mathematical Modules »\n",
    "https://docs.python.org/2/library/itertools.html"
   ]
  },
  {
   "cell_type": "markdown",
   "metadata": {},
   "source": [
    "<img src=\"http://www.clipular.com/c/5359419685863424.png?k=PEWDwArlh4Yf6AT-LJCyqJApSr4\">"
   ]
  },
  {
   "cell_type": "markdown",
   "metadata": {},
   "source": [
    "<img src=\"http://www.clipular.com/c/5966957741604864.png?k=CssI23iZFXKsRCGkXPJKUXfWkVs\">"
   ]
  },
  {
   "cell_type": "code",
   "execution_count": 52,
   "metadata": {
    "collapsed": true
   },
   "outputs": [],
   "source": [
    "rows = [{'address': '5412 N CLARK', 'date': '07/01/2012'},\n",
    "        {'address': '5148 N CLARK', 'date': '07/04/2012'},\n",
    "        {'address': '5800 E 58TH', 'date': '07/02/2012'},\n",
    "        {'address': '2122 N CLARK', 'date': '07/03/2012'},\n",
    "        {'address': '5645 N RAVENSWOOD', 'date': '07/02/2012'},\n",
    "        {'address': '1060 W ADDISON', 'date': '07/02/2012'},\n",
    "        {'address': '4801 N BROADWAY', 'date': '07/01/2012'},\n",
    "        {'address': '1039 W GRANVILLE', 'date': '07/04/2012'}, ] "
   ]
  },
  {
   "cell_type": "code",
   "execution_count": 53,
   "metadata": {},
   "outputs": [
    {
     "name": "stdout",
     "output_type": "stream",
     "text": [
      "[{'date': '07/01/2012', 'address': '5412 N CLARK'}, {'date': '07/01/2012', 'address': '4801 N BROADWAY'}, {'date': '07/02/2012', 'address': '5800 E 58TH'}, {'date': '07/02/2012', 'address': '5645 N RAVENSWOOD'}, {'date': '07/02/2012', 'address': '1060 W ADDISON'}, {'date': '07/03/2012', 'address': '2122 N CLARK'}, {'date': '07/04/2012', 'address': '5148 N CLARK'}, {'date': '07/04/2012', 'address': '1039 W GRANVILLE'}]\n"
     ]
    }
   ],
   "source": [
    "from operator import itemgetter\n",
    "from itertools import groupby\n",
    "\n",
    "rows.sort(key=itemgetter('date'))\n",
    "print rows    "
   ]
  },
  {
   "cell_type": "code",
   "execution_count": 54,
   "metadata": {
    "scrolled": true
   },
   "outputs": [
    {
     "name": "stdout",
     "output_type": "stream",
     "text": [
      "07/01/2012\n",
      "\t{'date': '07/01/2012', 'address': '5412 N CLARK'}\n",
      "\t{'date': '07/01/2012', 'address': '4801 N BROADWAY'}\n",
      "07/02/2012\n",
      "\t{'date': '07/02/2012', 'address': '5800 E 58TH'}\n",
      "\t{'date': '07/02/2012', 'address': '5645 N RAVENSWOOD'}\n",
      "\t{'date': '07/02/2012', 'address': '1060 W ADDISON'}\n",
      "07/03/2012\n",
      "\t{'date': '07/03/2012', 'address': '2122 N CLARK'}\n",
      "07/04/2012\n",
      "\t{'date': '07/04/2012', 'address': '5148 N CLARK'}\n",
      "\t{'date': '07/04/2012', 'address': '1039 W GRANVILLE'}\n"
     ]
    }
   ],
   "source": [
    "for date, items in groupby(rows, key=itemgetter('date')):\n",
    "    print(date)\n",
    "    for i in items:\n",
    "        print '\\t', i"
   ]
  },
  {
   "cell_type": "markdown",
   "metadata": {},
   "source": [
    "<img src=\"http://www.clipular.com/c/5690500729536512.png?k=n0cnKE_FoRFsZ3eqWb-6t0kSaYI\">"
   ]
  },
  {
   "cell_type": "markdown",
   "metadata": {},
   "source": [
    "#### If your goal is to simply group the data together by dates into a large data structure that allows random access, you may have better luck using defaultdict()  to build a multidict, as described in Recipe 1.6. For example: "
   ]
  },
  {
   "cell_type": "markdown",
   "metadata": {},
   "source": [
    "<img src=\"http://www.clipular.com/c/6293871157051392.png?k=FnBAMx6NqRbovcNoVZJJMZ2b3k0\">"
   ]
  },
  {
   "cell_type": "markdown",
   "metadata": {},
   "source": [
    "<img src=\"http://www.clipular.com/c/6685626297745408.png?k=OBVPQShM9QUkpNB3g-2Cl434xMM\">"
   ]
  },
  {
   "cell_type": "markdown",
   "metadata": {},
   "source": [
    "### Generator Expressions"
   ]
  },
  {
   "cell_type": "code",
   "execution_count": 55,
   "metadata": {},
   "outputs": [
    {
     "data": {
      "text/plain": [
       "<generator object <genexpr> at 0x7f5b27b05d20>"
      ]
     },
     "execution_count": 55,
     "metadata": {},
     "output_type": "execute_result"
    }
   ],
   "source": [
    "mylist =  [1, 4, -5, 10, -7, 2, 3, -1]\n",
    "\n",
    "positive = (n for n in mylist if n > 0)\n",
    "\n",
    "positive"
   ]
  },
  {
   "cell_type": "code",
   "execution_count": 56,
   "metadata": {},
   "outputs": [
    {
     "name": "stdout",
     "output_type": "stream",
     "text": [
      "1 4 10 2 3 \n"
     ]
    }
   ],
   "source": [
    "for i in positive:\n",
    "    print i,\n",
    "print ''"
   ]
  },
  {
   "cell_type": "markdown",
   "metadata": {},
   "source": [
    "### Built-in fileter() function\n",
    "\n",
    "#### filter() creates an iterator, so if you want to create a list of results, make sure you also use list() as shown. "
   ]
  },
  {
   "cell_type": "markdown",
   "metadata": {},
   "source": [
    "<img src=\"http://www.clipular.com/c/4560713239756800.png?k=mNYlPqdc3ecufEGcOPH2VSgycJA\">"
   ]
  },
  {
   "cell_type": "markdown",
   "metadata": {},
   "source": [
    "### With Conditional Expression "
   ]
  },
  {
   "cell_type": "markdown",
   "metadata": {},
   "source": [
    "<img src=\"http://www.clipular.com/c/4719211860721664.png?k=i5jI-Oba-KM1nUI0UejeLxCnfpk\">"
   ]
  },
  {
   "cell_type": "code",
   "execution_count": 57,
   "metadata": {
    "scrolled": true
   },
   "outputs": [
    {
     "data": {
      "text/plain": [
       "[1, 4, 0, 10, 0, 2, 3, 0]"
      ]
     },
     "execution_count": 57,
     "metadata": {},
     "output_type": "execute_result"
    }
   ],
   "source": [
    "clip_neg = [n if n > 0 else 0 for n in mylist] \n",
    "clip_neg"
   ]
  },
  {
   "cell_type": "markdown",
   "metadata": {},
   "source": [
    "### Itertools.compress()"
   ]
  },
  {
   "cell_type": "markdown",
   "metadata": {},
   "source": [
    "<img src=\"http://www.clipular.com/c/6455501950025728.png?k=Hw8v6dCLrzMDkOd2kT1vRK6ZpKU\">"
   ]
  },
  {
   "cell_type": "code",
   "execution_count": 58,
   "metadata": {
    "collapsed": true
   },
   "outputs": [],
   "source": [
    "addresses = ['5412 N CLARK',\n",
    "             '5148 N CLARK',\n",
    "             '5800 E 58TH',\n",
    "             '2122 N CLARK',\n",
    "             '5645 N RAVENSWOOD',\n",
    "             '1060 W ADDISON',\n",
    "             '4801 N BROADWAY',\n",
    "             '1039 W GRANVILLE', ] \n",
    "\n",
    "counts = [0, 3, 10, 4, 1, 7, 6, 1] "
   ]
  },
  {
   "cell_type": "code",
   "execution_count": 59,
   "metadata": {},
   "outputs": [
    {
     "data": {
      "text/plain": [
       "[False, False, True, False, False, True, True, False]"
      ]
     },
     "execution_count": 59,
     "metadata": {},
     "output_type": "execute_result"
    }
   ],
   "source": [
    "from itertools import compress\n",
    "\n",
    "more5 = [ n > 5 for n in counts]\n",
    "\n",
    "more5  ## Boolean value list"
   ]
  },
  {
   "cell_type": "code",
   "execution_count": 60,
   "metadata": {
    "scrolled": true
   },
   "outputs": [
    {
     "data": {
      "text/plain": [
       "['5800 E 58TH', '1060 W ADDISON', '4801 N BROADWAY']"
      ]
     },
     "execution_count": 60,
     "metadata": {},
     "output_type": "execute_result"
    }
   ],
   "source": [
    "list(compress(addresses, more5))"
   ]
  },
  {
   "cell_type": "markdown",
   "metadata": {},
   "source": [
    "<img src=\"http://www.clipular.com/c/5744284994371584.png?k=epQR9sNAxj0gysoYZSu-rHNawDA\">"
   ]
  },
  {
   "cell_type": "markdown",
   "metadata": {},
   "source": [
    "<img src=\"http://www.clipular.com/c/6380484675502080.png?k=3ooU6o19KGOidzNhd1OQptkhb10\">"
   ]
  },
  {
   "cell_type": "code",
   "execution_count": 61,
   "metadata": {},
   "outputs": [
    {
     "data": {
      "text/plain": [
       "{'AAPL': 612.78, 'ACME': 45.23, 'FB': 10.75, 'HPQ': 37.2, 'IBM': 205.55}"
      ]
     },
     "execution_count": 61,
     "metadata": {},
     "output_type": "execute_result"
    }
   ],
   "source": [
    "prices = {'ACME': 45.23,'AAPL': 612.78,'IBM': 205.55,'HPQ': 37.20,'FB': 10.75 } \n",
    "\n",
    "prices"
   ]
  },
  {
   "cell_type": "code",
   "execution_count": 62,
   "metadata": {},
   "outputs": [
    {
     "data": {
      "text/plain": [
       "{'AAPL': 612.78, 'IBM': 205.55}"
      ]
     },
     "execution_count": 62,
     "metadata": {},
     "output_type": "execute_result"
    }
   ],
   "source": [
    "subset1 = { key:value for key,value in prices.iteritems() if value > 200}\n",
    "### In Python 2.x, iteritems() is the same as the items() in Python 3.x\n",
    "\n",
    "subset1"
   ]
  },
  {
   "cell_type": "markdown",
   "metadata": {},
   "source": [
    "<img src=\"http://www.clipular.com/c/6655975957463040.png?k=t3hMaifxoguJSX2bIEFlWI4PGwY\">"
   ]
  },
  {
   "cell_type": "code",
   "execution_count": 63,
   "metadata": {},
   "outputs": [
    {
     "name": "stdout",
     "output_type": "stream",
     "text": [
      "{'HPQ': 37.2, 'AAPL': 612.78, 'IBM': 205.55}\n"
     ]
    }
   ],
   "source": [
    "tech_names = {'AAPL', 'IBM', 'HPQ', 'MSFT'}\n",
    "\n",
    "subset2 = { k:v for k,v in prices.items() if k in tech_names}\n",
    "\n",
    "print subset2"
   ]
  },
  {
   "cell_type": "markdown",
   "metadata": {},
   "source": [
    "### Discussion"
   ]
  },
  {
   "cell_type": "markdown",
   "metadata": {},
   "source": [
    "<img src=\"http://www.clipular.com/c/6527480199643136.png?k=KU6OlfBvme4s3rWrAxfsZ_JfbHA\">"
   ]
  },
  {
   "cell_type": "markdown",
   "metadata": {},
   "source": [
    "<img src=\"http://www.clipular.com/c/5752646893043712.png?k=DVTerK0tcl2deD8WgWGUEJk6qFw\">"
   ]
  },
  {
   "cell_type": "markdown",
   "metadata": {},
   "source": [
    "<img src=\"http://www.clipular.com/c/6149648705388544.png?k=Nj5b1a3vdgEj8TPOSSQ4Aix5GYc\">"
   ]
  },
  {
   "cell_type": "code",
   "execution_count": 64,
   "metadata": {},
   "outputs": [
    {
     "data": {
      "text/plain": [
       "Subs(addr='jones@example.com', date='2012-10-19')"
      ]
     },
     "execution_count": 64,
     "metadata": {},
     "output_type": "execute_result"
    }
   ],
   "source": [
    "from collections import namedtuple\n",
    "Subscriber = namedtuple('Subs', ['addr', 'date'])   ## 'Subs' is just Type name\n",
    "\n",
    "sub = Subscriber('jones@example.com', '2012-10-19')\n",
    "\n",
    "sub"
   ]
  },
  {
   "cell_type": "code",
   "execution_count": 65,
   "metadata": {},
   "outputs": [
    {
     "data": {
      "text/plain": [
       "'jones@example.com'"
      ]
     },
     "execution_count": 65,
     "metadata": {},
     "output_type": "execute_result"
    }
   ],
   "source": [
    "sub.addr"
   ]
  },
  {
   "cell_type": "code",
   "execution_count": 66,
   "metadata": {},
   "outputs": [
    {
     "data": {
      "text/plain": [
       "'2012-10-19'"
      ]
     },
     "execution_count": 66,
     "metadata": {},
     "output_type": "execute_result"
    }
   ],
   "source": [
    "sub.date"
   ]
  },
  {
   "cell_type": "markdown",
   "metadata": {},
   "source": [
    "<img src=\"http://www.clipular.com/c/4566351961391104.png?k=oetgsB07TB08kuJm8CM-tbVS8YM\">"
   ]
  },
  {
   "cell_type": "code",
   "execution_count": 67,
   "metadata": {},
   "outputs": [
    {
     "data": {
      "text/plain": [
       "2"
      ]
     },
     "execution_count": 67,
     "metadata": {},
     "output_type": "execute_result"
    }
   ],
   "source": [
    "len(sub)"
   ]
  },
  {
   "cell_type": "code",
   "execution_count": 68,
   "metadata": {},
   "outputs": [
    {
     "data": {
      "text/plain": [
       "'jones@example.com'"
      ]
     },
     "execution_count": 68,
     "metadata": {},
     "output_type": "execute_result"
    }
   ],
   "source": [
    "addr, joined = sub\n",
    "addr"
   ]
  },
  {
   "cell_type": "code",
   "execution_count": 69,
   "metadata": {},
   "outputs": [
    {
     "data": {
      "text/plain": [
       "'2012-10-19'"
      ]
     },
     "execution_count": 69,
     "metadata": {},
     "output_type": "execute_result"
    }
   ],
   "source": [
    "joined"
   ]
  },
  {
   "cell_type": "markdown",
   "metadata": {
    "collapsed": true
   },
   "source": [
    "<img src=\"http://www.clipular.com/c/6160135002259456.png?k=qc4Kb4Rpf3h4lOM2_vo81MsCSPc\">"
   ]
  },
  {
   "cell_type": "markdown",
   "metadata": {},
   "source": [
    "References to positional elements often make the code a bit less expressive and more dependent on the structure of the records. \n",
    "\n",
    "Here is a version that uses a namedtuple: "
   ]
  },
  {
   "cell_type": "markdown",
   "metadata": {},
   "source": [
    "<img src=\"http://www.clipular.com/c/5101144646090752.png?k=OqybML20GD2srylBB71oWfuC6lQ\">"
   ]
  },
  {
   "cell_type": "code",
   "execution_count": 70,
   "metadata": {
    "collapsed": true
   },
   "outputs": [],
   "source": [
    "def compute_cost(records):\n",
    "    total = 0.0  \n",
    "    for rec in records:\n",
    "        total += rec[1] * rec[2]\n",
    "    return total "
   ]
  },
  {
   "cell_type": "code",
   "execution_count": 85,
   "metadata": {
    "collapsed": true
   },
   "outputs": [],
   "source": [
    "def compute_cost(records):\n",
    "    total = 0.0\n",
    "    for rec in records:\n",
    "        #s = Stock(*rec)  ### In Python 3.x\n",
    "        print rec\n",
    "        s = Stock(rec[0], rec[1],rec[2]) \n",
    "        print s\n",
    "        total += int(s.shares) * int(s.price)\n",
    "    return total "
   ]
  },
  {
   "cell_type": "code",
   "execution_count": 83,
   "metadata": {},
   "outputs": [
    {
     "data": {
      "text/plain": [
       "(['AAPL', 3.0, 45.23], ['HPQ', 3.0, 45.23], ['FB', 3.0, 45.23])"
      ]
     },
     "execution_count": 83,
     "metadata": {},
     "output_type": "execute_result"
    }
   ],
   "source": [
    "from collections import namedtuple \n",
    "Stock = namedtuple('Stock', ['name', 'shares', 'price']) \n",
    "\n",
    "#stock1 = Stock('AAPL', 3.0, 45.23)\n",
    "stocks = (['AAPL', 3.0, 45.23], ['HPQ', 3.0, 45.23], ['FB', 3.0, 45.23])\n",
    "stocks"
   ]
  },
  {
   "cell_type": "code",
   "execution_count": 86,
   "metadata": {},
   "outputs": [
    {
     "name": "stdout",
     "output_type": "stream",
     "text": [
      "['AAPL', 3.0, 45.23]\n",
      "Stock(name='AAPL', shares=3.0, price=45.23)\n",
      "['HPQ', 3.0, 45.23]\n",
      "Stock(name='HPQ', shares=3.0, price=45.23)\n",
      "['FB', 3.0, 45.23]\n",
      "Stock(name='FB', shares=3.0, price=45.23)\n",
      "405.0\n"
     ]
    }
   ],
   "source": [
    "print compute_cost(stocks)"
   ]
  },
  {
   "cell_type": "markdown",
   "metadata": {
    "collapsed": true
   },
   "source": [
    "<img src=\"http://www.clipular.com/c/4809114854359040.png?k=hLcxfxuo3b8iDvXqxvBwiVo5e8I\">"
   ]
  },
  {
   "cell_type": "markdown",
   "metadata": {},
   "source": [
    "<img src=\"http://www.clipular.com/c/5596134728007680.png?k=u5Jnn32ASvdvHS1efpWjjiQ7MzY\">"
   ]
  },
  {
   "cell_type": "code",
   "execution_count": 87,
   "metadata": {
    "scrolled": true
   },
   "outputs": [
    {
     "name": "stdout",
     "output_type": "stream",
     "text": [
      "ACME,50,123.45\n"
     ]
    }
   ],
   "source": [
    "s = ('ACME', 50, 123.45)\n",
    "\n",
    "print ','.join(str(x) for x in s)"
   ]
  },
  {
   "cell_type": "code",
   "execution_count": 88,
   "metadata": {},
   "outputs": [
    {
     "data": {
      "text/plain": [
       "[{'name': 'GOOG', 'shares': 50},\n",
       " {'name': 'YHOO', 'shares': 75},\n",
       " {'name': 'AOL', 'shares': 20},\n",
       " {'name': 'SCOX', 'shares': 65}]"
      ]
     },
     "execution_count": 88,
     "metadata": {},
     "output_type": "execute_result"
    }
   ],
   "source": [
    "portfolio = [{'name':'GOOG', 'shares': 50},\n",
    "             {'name':'YHOO', 'shares': 75},\n",
    "             {'name':'AOL', 'shares': 20},  \n",
    "             {'name':'SCOX', 'shares': 65} ] \n",
    "portfolio"
   ]
  },
  {
   "cell_type": "code",
   "execution_count": 91,
   "metadata": {},
   "outputs": [
    {
     "name": "stdout",
     "output_type": "stream",
     "text": [
      "20\n"
     ]
    }
   ],
   "source": [
    "min_shares = min(s['shares'] for s in portfolio)\n",
    "\n",
    "print min_shares"
   ]
  },
  {
   "cell_type": "markdown",
   "metadata": {},
   "source": [
    "<img src=\"http://www.clipular.com/c/5568870812483584.png?k=xrH5djzsK8FPJ99TrQ3zbrHJIp0\">"
   ]
  },
  {
   "cell_type": "code",
   "execution_count": 93,
   "metadata": {},
   "outputs": [
    {
     "name": "stdout",
     "output_type": "stream",
     "text": [
      "55\n"
     ]
    }
   ],
   "source": [
    "nums = [1,2,3,4,5]\n",
    "\n",
    "s = sum([x * x for x in nums])  ###  it introduces an extra step and creates an extra list\n",
    "print s\n",
    "\n",
    "###\n",
    "### if nums was huge, you would end up creating a large temporary data structure to only be used once and discarded. "
   ]
  },
  {
   "cell_type": "code",
   "execution_count": null,
   "metadata": {
    "collapsed": true
   },
   "outputs": [],
   "source": [
    "s = sum(x * x for x in nums)\n",
    "print s"
   ]
  }
 ],
 "metadata": {
  "kernelspec": {
   "display_name": "Python 2",
   "language": "python",
   "name": "python2"
  },
  "language_info": {
   "codemirror_mode": {
    "name": "ipython",
    "version": 2
   },
   "file_extension": ".py",
   "mimetype": "text/x-python",
   "name": "python",
   "nbconvert_exporter": "python",
   "pygments_lexer": "ipython2",
   "version": "2.7.13"
  }
 },
 "nbformat": 4,
 "nbformat_minor": 2
}
